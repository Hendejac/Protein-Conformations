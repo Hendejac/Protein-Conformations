{
 "cells": [
  {
   "cell_type": "markdown",
   "metadata": {},
   "source": [
    "# Libraries"
   ]
  },
  {
   "cell_type": "code",
   "execution_count": 1,
   "metadata": {},
   "outputs": [],
   "source": [
    "import sys\n",
    "import os\n",
    "import re\n",
    "import math\n",
    "import MDAnalysis as mda \n",
    "import matplotlib.pyplot as plt\n",
    "from MDAnalysis.analysis import align\n",
    "import numpy as np\n",
    "import pandas as pd\n",
    "import itertools\n",
    "from sklearn.ensemble import RandomForestClassifier\n",
    "import gc\n",
    "import glob as g"
   ]
  },
  {
   "cell_type": "markdown",
   "metadata": {},
   "source": [
    "# Define Paths, pH, and CRD Files"
   ]
  },
  {
   "cell_type": "code",
   "execution_count": 2,
   "metadata": {},
   "outputs": [],
   "source": [
    "# pH range \n",
    "pH = \"7.0\"\n",
    "# Location of PSF and DCD\n",
    "path1  = \"/data/jackh/plasmepsin/apo_plasmepsin/run\"\n",
    "path2  = \"/data/jackh/plasmepsin/holo_plasmepsin/run\"\n",
    "direc = \"stage\"\n",
    "# Name of apo psf and initial crds \n",
    "psf1 = '{}/plasmepsin.psf'.format(path1)\n",
    "crd1 = '{}/plasmepsin.crd'.format(path1)\n",
    "psf2 = '{}/1sme.psf'.format(path2)\n",
    "crd2 = '{}/1sme.crd'.format(path2)\n",
    "# Stage Ranges \n",
    "sstage1 = 61\n",
    "lstage1 = 65\n",
    "sstage2 = 41\n",
    "lstage2 = 41"
   ]
  },
  {
   "cell_type": "markdown",
   "metadata": {},
   "source": [
    "# Align Frames and extract portion of interest"
   ]
  },
  {
   "cell_type": "markdown",
   "metadata": {},
   "source": [
    "### Function for Remaking Trajectories"
   ]
  },
  {
   "cell_type": "code",
   "execution_count": 3,
   "metadata": {},
   "outputs": [],
   "source": [
    "def traj_aligner(psf, crd, sstage, lstage, path, direc, skip, o_name='test'):\n",
    "    '''\n",
    "    Libraries Needed: import MDAnalysis as mda \n",
    "                      import Glob as g\n",
    "                      from MDAnalysis.analysis import align\n",
    "                      import os\n",
    "    psf, for current system \n",
    "    crd, for current system\n",
    "    sstage, start stage\n",
    "    lstage, last stage\n",
    "    '''\n",
    "    ref = mda.Universe(psf, crd, format='CRD')\n",
    "    out_selection = ref.select_atoms(\"protein\")\n",
    "    other_selection  = ref.select_atoms(\"protein\")\n",
    "    with mda.Writer('pdb_for_coloring.pdb', other_selection.n_atoms) as o:\n",
    "        o.write(other_selection)\n",
    "    with mda.Writer('check.pdb', out_selection.n_atoms) as o:\n",
    "        o.write(out_selection)\n",
    "    with mda.Writer('{}.dcd'.format(o_name), out_selection.n_atoms) as w:\n",
    "        frame = 0\n",
    "        for stage in range(sstage, lstage+1):\n",
    "            dcd = g.glob('{}/{}{}/*ph{}*dcd*'.format(path, direc, stage, pH))[0]\n",
    "            u = mda.Universe(psf, dcd, format='DCD')\n",
    "            alignment = align.AlignTraj(u, ref, filename='align.dcd', select=\"name C CA N O\")\n",
    "            alignment.run()\n",
    "            aligned = mda.Universe(psf, 'align.dcd', format='DCD')\n",
    "            selection = aligned.select_atoms('protein')\n",
    "            for ts in aligned.trajectory[::skip]:\n",
    "                w.write(selection)\n",
    "                frame += 1\n",
    "            os.remove('align.dcd')\n",
    "            gc.collect()"
   ]
  },
  {
   "cell_type": "markdown",
   "metadata": {},
   "source": [
    "### Get data from Apo"
   ]
  },
  {
   "cell_type": "code",
   "execution_count": 4,
   "metadata": {},
   "outputs": [
    {
     "name": "stderr",
     "output_type": "stream",
     "text": [
      "/home/jackh/Software/anaconda3/lib/python3.7/site-packages/MDAnalysis/coordinates/PDB.py:864: DeprecationWarning: Using the last letter of the segid for the chainID is now deprecated and will be changed in 2.0. In 2.0, the chainID attribute will be used if it exists, or a placeholder value.\n",
      "  \"exists, or a placeholder value.\", DeprecationWarning)\n",
      "/home/jackh/Software/anaconda3/lib/python3.7/site-packages/MDAnalysis/coordinates/PDB.py:722: UserWarning: Unit cell dimensions not found. CRYST1 record set to unitary values.\n",
      "  warnings.warn(\"Unit cell dimensions not found. \"\n",
      "/home/jackh/Software/anaconda3/lib/python3.7/site-packages/MDAnalysis/coordinates/PDB.py:1032: UserWarning: Found no information for attr: 'altLocs' Using default value of ' '\n",
      "  \"\".format(attrname, default))\n",
      "/home/jackh/Software/anaconda3/lib/python3.7/site-packages/MDAnalysis/coordinates/PDB.py:1032: UserWarning: Found no information for attr: 'icodes' Using default value of ' '\n",
      "  \"\".format(attrname, default))\n",
      "/home/jackh/Software/anaconda3/lib/python3.7/site-packages/MDAnalysis/coordinates/PDB.py:1032: UserWarning: Found no information for attr: 'occupancies' Using default value of '1.0'\n",
      "  \"\".format(attrname, default))\n",
      "/home/jackh/Software/anaconda3/lib/python3.7/site-packages/MDAnalysis/coordinates/PDB.py:1032: UserWarning: Found no information for attr: 'tempfactors' Using default value of '0.0'\n",
      "  \"\".format(attrname, default))\n"
     ]
    }
   ],
   "source": [
    "traj_aligner(psf1, crd1, sstage1, lstage1, path1, direc, 10, o_name='apo')"
   ]
  },
  {
   "cell_type": "markdown",
   "metadata": {},
   "source": [
    "### Get data from Holo"
   ]
  },
  {
   "cell_type": "code",
   "execution_count": 5,
   "metadata": {
    "scrolled": true
   },
   "outputs": [],
   "source": [
    "traj_aligner(psf2, crd2, sstage2, lstage2, path2, direc, 10, o_name='holo')"
   ]
  },
  {
   "cell_type": "markdown",
   "metadata": {},
   "source": [
    "### Create new Universes for Mutant and Wild Type Trajectories"
   ]
  },
  {
   "cell_type": "code",
   "execution_count": 6,
   "metadata": {},
   "outputs": [],
   "source": [
    "apo  = mda.Universe('check.pdb', 'apo.dcd', format='DCD')\n",
    "holo = mda.Universe('check.pdb', 'holo.dcd', format='DCD')"
   ]
  },
  {
   "cell_type": "code",
   "execution_count": 7,
   "metadata": {},
   "outputs": [
    {
     "name": "stdout",
     "output_type": "stream",
     "text": [
      "Number of Apo  Data Points: 250\n",
      "Number of Holo Data Points: 200\n"
     ]
    }
   ],
   "source": [
    "print('Number of Apo  Data Points: {}'.format(len(apo.trajectory)))\n",
    "print('Number of Holo Data Points: {}'.format(len(holo.trajectory)))"
   ]
  },
  {
   "cell_type": "markdown",
   "metadata": {},
   "source": [
    "# Process Data"
   ]
  },
  {
   "cell_type": "markdown",
   "metadata": {},
   "source": [
    "### Make Selections "
   ]
  },
  {
   "cell_type": "code",
   "execution_count": 8,
   "metadata": {},
   "outputs": [
    {
     "name": "stdout",
     "output_type": "stream",
     "text": [
      "Number of Atoms in apo Selection: 329\n",
      "Number of Atoms in holo Selection: 329\n"
     ]
    }
   ],
   "source": [
    "selection = 'protein and name CA'\n",
    "apo_select = apo.select_atoms(selection)\n",
    "holo_select = holo.select_atoms(selection)\n",
    "print('Number of Atoms in apo Selection: {}'.format(len(apo_select)))\n",
    "print('Number of Atoms in holo Selection: {}'.format(len(holo_select)))"
   ]
  },
  {
   "cell_type": "markdown",
   "metadata": {},
   "source": [
    "Get the Data for the Apo State and Create a  Labeled DataFrame"
   ]
  },
  {
   "cell_type": "code",
   "execution_count": 9,
   "metadata": {},
   "outputs": [],
   "source": [
    "apo_data = []\n",
    "for ts in apo.trajectory:\n",
    "    all_coors = []\n",
    "    coors = apo_select.positions\n",
    "    for three in coors:\n",
    "        for one in three:\n",
    "            all_coors.append(one)\n",
    "    apo_data.append(all_coors)"
   ]
  },
  {
   "cell_type": "code",
   "execution_count": 10,
   "metadata": {},
   "outputs": [],
   "source": [
    "df_apo = pd.DataFrame(apo_data)\n",
    "df_apo['label'] = pd.Series('apo', index=df_apo.index)"
   ]
  },
  {
   "cell_type": "code",
   "execution_count": 11,
   "metadata": {},
   "outputs": [
    {
     "data": {
      "text/html": [
       "<div>\n",
       "<style scoped>\n",
       "    .dataframe tbody tr th:only-of-type {\n",
       "        vertical-align: middle;\n",
       "    }\n",
       "\n",
       "    .dataframe tbody tr th {\n",
       "        vertical-align: top;\n",
       "    }\n",
       "\n",
       "    .dataframe thead th {\n",
       "        text-align: right;\n",
       "    }\n",
       "</style>\n",
       "<table border=\"1\" class=\"dataframe\">\n",
       "  <thead>\n",
       "    <tr style=\"text-align: right;\">\n",
       "      <th></th>\n",
       "      <th>0</th>\n",
       "      <th>1</th>\n",
       "      <th>2</th>\n",
       "      <th>3</th>\n",
       "      <th>4</th>\n",
       "      <th>5</th>\n",
       "      <th>6</th>\n",
       "      <th>7</th>\n",
       "      <th>8</th>\n",
       "      <th>9</th>\n",
       "      <th>...</th>\n",
       "      <th>978</th>\n",
       "      <th>979</th>\n",
       "      <th>980</th>\n",
       "      <th>981</th>\n",
       "      <th>982</th>\n",
       "      <th>983</th>\n",
       "      <th>984</th>\n",
       "      <th>985</th>\n",
       "      <th>986</th>\n",
       "      <th>label</th>\n",
       "    </tr>\n",
       "  </thead>\n",
       "  <tbody>\n",
       "    <tr>\n",
       "      <th>0</th>\n",
       "      <td>7.936614</td>\n",
       "      <td>16.734118</td>\n",
       "      <td>-18.086803</td>\n",
       "      <td>8.031563</td>\n",
       "      <td>17.804049</td>\n",
       "      <td>-14.322957</td>\n",
       "      <td>5.906966</td>\n",
       "      <td>14.813248</td>\n",
       "      <td>-13.374743</td>\n",
       "      <td>5.596200</td>\n",
       "      <td>...</td>\n",
       "      <td>-15.112827</td>\n",
       "      <td>3.463012</td>\n",
       "      <td>-11.891559</td>\n",
       "      <td>-14.879385</td>\n",
       "      <td>3.436959</td>\n",
       "      <td>-15.656410</td>\n",
       "      <td>-12.310820</td>\n",
       "      <td>5.985475</td>\n",
       "      <td>-16.971508</td>\n",
       "      <td>apo</td>\n",
       "    </tr>\n",
       "    <tr>\n",
       "      <th>1</th>\n",
       "      <td>6.374237</td>\n",
       "      <td>20.286495</td>\n",
       "      <td>-16.328499</td>\n",
       "      <td>6.074641</td>\n",
       "      <td>16.933277</td>\n",
       "      <td>-14.532928</td>\n",
       "      <td>7.861946</td>\n",
       "      <td>13.612007</td>\n",
       "      <td>-14.237952</td>\n",
       "      <td>6.797802</td>\n",
       "      <td>...</td>\n",
       "      <td>-14.577964</td>\n",
       "      <td>5.563470</td>\n",
       "      <td>-13.336635</td>\n",
       "      <td>-13.457969</td>\n",
       "      <td>5.315673</td>\n",
       "      <td>-16.934462</td>\n",
       "      <td>-10.436689</td>\n",
       "      <td>7.318697</td>\n",
       "      <td>-17.939455</td>\n",
       "      <td>apo</td>\n",
       "    </tr>\n",
       "    <tr>\n",
       "      <th>2</th>\n",
       "      <td>6.683439</td>\n",
       "      <td>16.867075</td>\n",
       "      <td>-17.587145</td>\n",
       "      <td>7.934793</td>\n",
       "      <td>17.694761</td>\n",
       "      <td>-14.052180</td>\n",
       "      <td>5.973087</td>\n",
       "      <td>14.574830</td>\n",
       "      <td>-12.830748</td>\n",
       "      <td>5.723708</td>\n",
       "      <td>...</td>\n",
       "      <td>-14.566985</td>\n",
       "      <td>3.445421</td>\n",
       "      <td>-12.799109</td>\n",
       "      <td>-14.012561</td>\n",
       "      <td>3.398465</td>\n",
       "      <td>-16.539301</td>\n",
       "      <td>-10.889112</td>\n",
       "      <td>5.323667</td>\n",
       "      <td>-17.961252</td>\n",
       "      <td>apo</td>\n",
       "    </tr>\n",
       "    <tr>\n",
       "      <th>3</th>\n",
       "      <td>8.555280</td>\n",
       "      <td>17.588068</td>\n",
       "      <td>-16.371143</td>\n",
       "      <td>8.067943</td>\n",
       "      <td>18.253416</td>\n",
       "      <td>-12.635335</td>\n",
       "      <td>5.956494</td>\n",
       "      <td>15.095166</td>\n",
       "      <td>-12.323750</td>\n",
       "      <td>6.194684</td>\n",
       "      <td>...</td>\n",
       "      <td>-14.191288</td>\n",
       "      <td>5.030725</td>\n",
       "      <td>-14.213653</td>\n",
       "      <td>-13.139180</td>\n",
       "      <td>5.123851</td>\n",
       "      <td>-17.920294</td>\n",
       "      <td>-10.247204</td>\n",
       "      <td>6.902631</td>\n",
       "      <td>-19.540625</td>\n",
       "      <td>apo</td>\n",
       "    </tr>\n",
       "    <tr>\n",
       "      <th>4</th>\n",
       "      <td>9.504579</td>\n",
       "      <td>16.518469</td>\n",
       "      <td>-17.222799</td>\n",
       "      <td>8.653562</td>\n",
       "      <td>16.796082</td>\n",
       "      <td>-13.385077</td>\n",
       "      <td>6.356307</td>\n",
       "      <td>13.792430</td>\n",
       "      <td>-13.133732</td>\n",
       "      <td>6.085129</td>\n",
       "      <td>...</td>\n",
       "      <td>-15.029623</td>\n",
       "      <td>3.625026</td>\n",
       "      <td>-12.348266</td>\n",
       "      <td>-14.681505</td>\n",
       "      <td>3.333221</td>\n",
       "      <td>-16.188503</td>\n",
       "      <td>-11.931715</td>\n",
       "      <td>5.514678</td>\n",
       "      <td>-18.027365</td>\n",
       "      <td>apo</td>\n",
       "    </tr>\n",
       "    <tr>\n",
       "      <th>...</th>\n",
       "      <td>...</td>\n",
       "      <td>...</td>\n",
       "      <td>...</td>\n",
       "      <td>...</td>\n",
       "      <td>...</td>\n",
       "      <td>...</td>\n",
       "      <td>...</td>\n",
       "      <td>...</td>\n",
       "      <td>...</td>\n",
       "      <td>...</td>\n",
       "      <td>...</td>\n",
       "      <td>...</td>\n",
       "      <td>...</td>\n",
       "      <td>...</td>\n",
       "      <td>...</td>\n",
       "      <td>...</td>\n",
       "      <td>...</td>\n",
       "      <td>...</td>\n",
       "      <td>...</td>\n",
       "      <td>...</td>\n",
       "      <td>...</td>\n",
       "    </tr>\n",
       "    <tr>\n",
       "      <th>245</th>\n",
       "      <td>10.311539</td>\n",
       "      <td>13.619311</td>\n",
       "      <td>-23.666592</td>\n",
       "      <td>7.145233</td>\n",
       "      <td>13.323510</td>\n",
       "      <td>-21.667208</td>\n",
       "      <td>6.724157</td>\n",
       "      <td>12.449252</td>\n",
       "      <td>-18.129818</td>\n",
       "      <td>5.860864</td>\n",
       "      <td>...</td>\n",
       "      <td>-14.280627</td>\n",
       "      <td>4.015745</td>\n",
       "      <td>-13.475150</td>\n",
       "      <td>-13.258502</td>\n",
       "      <td>3.860446</td>\n",
       "      <td>-17.097187</td>\n",
       "      <td>-9.799788</td>\n",
       "      <td>4.959751</td>\n",
       "      <td>-18.237379</td>\n",
       "      <td>apo</td>\n",
       "    </tr>\n",
       "    <tr>\n",
       "      <th>246</th>\n",
       "      <td>2.237781</td>\n",
       "      <td>18.569399</td>\n",
       "      <td>-12.445429</td>\n",
       "      <td>4.451749</td>\n",
       "      <td>16.954876</td>\n",
       "      <td>-15.299562</td>\n",
       "      <td>5.875818</td>\n",
       "      <td>13.426531</td>\n",
       "      <td>-14.351145</td>\n",
       "      <td>5.524405</td>\n",
       "      <td>...</td>\n",
       "      <td>-14.215485</td>\n",
       "      <td>4.851625</td>\n",
       "      <td>-13.543577</td>\n",
       "      <td>-14.697943</td>\n",
       "      <td>5.622977</td>\n",
       "      <td>-17.278595</td>\n",
       "      <td>-11.012461</td>\n",
       "      <td>6.588142</td>\n",
       "      <td>-17.910820</td>\n",
       "      <td>apo</td>\n",
       "    </tr>\n",
       "    <tr>\n",
       "      <th>247</th>\n",
       "      <td>2.111858</td>\n",
       "      <td>18.362202</td>\n",
       "      <td>-12.593345</td>\n",
       "      <td>3.693655</td>\n",
       "      <td>16.488455</td>\n",
       "      <td>-15.510667</td>\n",
       "      <td>5.815307</td>\n",
       "      <td>13.443441</td>\n",
       "      <td>-15.021321</td>\n",
       "      <td>5.564275</td>\n",
       "      <td>...</td>\n",
       "      <td>-14.315732</td>\n",
       "      <td>5.070481</td>\n",
       "      <td>-13.602571</td>\n",
       "      <td>-14.452508</td>\n",
       "      <td>5.738542</td>\n",
       "      <td>-17.402744</td>\n",
       "      <td>-10.691412</td>\n",
       "      <td>6.609934</td>\n",
       "      <td>-17.901461</td>\n",
       "      <td>apo</td>\n",
       "    </tr>\n",
       "    <tr>\n",
       "      <th>248</th>\n",
       "      <td>10.189169</td>\n",
       "      <td>12.184341</td>\n",
       "      <td>-24.130365</td>\n",
       "      <td>7.545165</td>\n",
       "      <td>13.373833</td>\n",
       "      <td>-21.562992</td>\n",
       "      <td>5.951597</td>\n",
       "      <td>12.857438</td>\n",
       "      <td>-18.092216</td>\n",
       "      <td>4.651402</td>\n",
       "      <td>...</td>\n",
       "      <td>-14.610068</td>\n",
       "      <td>4.264746</td>\n",
       "      <td>-13.183973</td>\n",
       "      <td>-13.101525</td>\n",
       "      <td>4.240343</td>\n",
       "      <td>-16.617723</td>\n",
       "      <td>-9.539418</td>\n",
       "      <td>5.450048</td>\n",
       "      <td>-17.237970</td>\n",
       "      <td>apo</td>\n",
       "    </tr>\n",
       "    <tr>\n",
       "      <th>249</th>\n",
       "      <td>3.896434</td>\n",
       "      <td>20.001930</td>\n",
       "      <td>-12.559716</td>\n",
       "      <td>3.215578</td>\n",
       "      <td>16.302502</td>\n",
       "      <td>-13.342296</td>\n",
       "      <td>5.667721</td>\n",
       "      <td>13.592854</td>\n",
       "      <td>-14.287087</td>\n",
       "      <td>5.356796</td>\n",
       "      <td>...</td>\n",
       "      <td>-14.194160</td>\n",
       "      <td>4.134608</td>\n",
       "      <td>-13.849999</td>\n",
       "      <td>-14.217817</td>\n",
       "      <td>4.734290</td>\n",
       "      <td>-17.707613</td>\n",
       "      <td>-11.064341</td>\n",
       "      <td>6.483464</td>\n",
       "      <td>-18.904383</td>\n",
       "      <td>apo</td>\n",
       "    </tr>\n",
       "  </tbody>\n",
       "</table>\n",
       "<p>250 rows × 988 columns</p>\n",
       "</div>"
      ],
      "text/plain": [
       "             0          1          2         3          4          5  \\\n",
       "0     7.936614  16.734118 -18.086803  8.031563  17.804049 -14.322957   \n",
       "1     6.374237  20.286495 -16.328499  6.074641  16.933277 -14.532928   \n",
       "2     6.683439  16.867075 -17.587145  7.934793  17.694761 -14.052180   \n",
       "3     8.555280  17.588068 -16.371143  8.067943  18.253416 -12.635335   \n",
       "4     9.504579  16.518469 -17.222799  8.653562  16.796082 -13.385077   \n",
       "..         ...        ...        ...       ...        ...        ...   \n",
       "245  10.311539  13.619311 -23.666592  7.145233  13.323510 -21.667208   \n",
       "246   2.237781  18.569399 -12.445429  4.451749  16.954876 -15.299562   \n",
       "247   2.111858  18.362202 -12.593345  3.693655  16.488455 -15.510667   \n",
       "248  10.189169  12.184341 -24.130365  7.545165  13.373833 -21.562992   \n",
       "249   3.896434  20.001930 -12.559716  3.215578  16.302502 -13.342296   \n",
       "\n",
       "            6          7          8         9  ...        978       979  \\\n",
       "0    5.906966  14.813248 -13.374743  5.596200  ... -15.112827  3.463012   \n",
       "1    7.861946  13.612007 -14.237952  6.797802  ... -14.577964  5.563470   \n",
       "2    5.973087  14.574830 -12.830748  5.723708  ... -14.566985  3.445421   \n",
       "3    5.956494  15.095166 -12.323750  6.194684  ... -14.191288  5.030725   \n",
       "4    6.356307  13.792430 -13.133732  6.085129  ... -15.029623  3.625026   \n",
       "..        ...        ...        ...       ...  ...        ...       ...   \n",
       "245  6.724157  12.449252 -18.129818  5.860864  ... -14.280627  4.015745   \n",
       "246  5.875818  13.426531 -14.351145  5.524405  ... -14.215485  4.851625   \n",
       "247  5.815307  13.443441 -15.021321  5.564275  ... -14.315732  5.070481   \n",
       "248  5.951597  12.857438 -18.092216  4.651402  ... -14.610068  4.264746   \n",
       "249  5.667721  13.592854 -14.287087  5.356796  ... -14.194160  4.134608   \n",
       "\n",
       "           980        981       982        983        984       985  \\\n",
       "0   -11.891559 -14.879385  3.436959 -15.656410 -12.310820  5.985475   \n",
       "1   -13.336635 -13.457969  5.315673 -16.934462 -10.436689  7.318697   \n",
       "2   -12.799109 -14.012561  3.398465 -16.539301 -10.889112  5.323667   \n",
       "3   -14.213653 -13.139180  5.123851 -17.920294 -10.247204  6.902631   \n",
       "4   -12.348266 -14.681505  3.333221 -16.188503 -11.931715  5.514678   \n",
       "..         ...        ...       ...        ...        ...       ...   \n",
       "245 -13.475150 -13.258502  3.860446 -17.097187  -9.799788  4.959751   \n",
       "246 -13.543577 -14.697943  5.622977 -17.278595 -11.012461  6.588142   \n",
       "247 -13.602571 -14.452508  5.738542 -17.402744 -10.691412  6.609934   \n",
       "248 -13.183973 -13.101525  4.240343 -16.617723  -9.539418  5.450048   \n",
       "249 -13.849999 -14.217817  4.734290 -17.707613 -11.064341  6.483464   \n",
       "\n",
       "           986  label  \n",
       "0   -16.971508    apo  \n",
       "1   -17.939455    apo  \n",
       "2   -17.961252    apo  \n",
       "3   -19.540625    apo  \n",
       "4   -18.027365    apo  \n",
       "..         ...    ...  \n",
       "245 -18.237379    apo  \n",
       "246 -17.910820    apo  \n",
       "247 -17.901461    apo  \n",
       "248 -17.237970    apo  \n",
       "249 -18.904383    apo  \n",
       "\n",
       "[250 rows x 988 columns]"
      ]
     },
     "execution_count": 11,
     "metadata": {},
     "output_type": "execute_result"
    }
   ],
   "source": [
    "df_apo"
   ]
  },
  {
   "cell_type": "markdown",
   "metadata": {},
   "source": [
    "Get Data for the Holo State and Create Labeled DataFrame"
   ]
  },
  {
   "cell_type": "code",
   "execution_count": 12,
   "metadata": {},
   "outputs": [],
   "source": [
    "holo_data = []\n",
    "for ts in holo.trajectory:\n",
    "    all_coors = []\n",
    "    coors = holo_select.positions\n",
    "    for three in coors:\n",
    "        for one in three:\n",
    "            all_coors.append(one)\n",
    "    holo_data.append(all_coors)"
   ]
  },
  {
   "cell_type": "code",
   "execution_count": 13,
   "metadata": {},
   "outputs": [],
   "source": [
    "df_holo = pd.DataFrame(holo_data)\n",
    "df_holo['label'] = pd.Series('holo', index=df_holo.index)"
   ]
  },
  {
   "cell_type": "code",
   "execution_count": 14,
   "metadata": {},
   "outputs": [
    {
     "data": {
      "text/html": [
       "<div>\n",
       "<style scoped>\n",
       "    .dataframe tbody tr th:only-of-type {\n",
       "        vertical-align: middle;\n",
       "    }\n",
       "\n",
       "    .dataframe tbody tr th {\n",
       "        vertical-align: top;\n",
       "    }\n",
       "\n",
       "    .dataframe thead th {\n",
       "        text-align: right;\n",
       "    }\n",
       "</style>\n",
       "<table border=\"1\" class=\"dataframe\">\n",
       "  <thead>\n",
       "    <tr style=\"text-align: right;\">\n",
       "      <th></th>\n",
       "      <th>0</th>\n",
       "      <th>1</th>\n",
       "      <th>2</th>\n",
       "      <th>3</th>\n",
       "      <th>4</th>\n",
       "      <th>5</th>\n",
       "      <th>6</th>\n",
       "      <th>7</th>\n",
       "      <th>8</th>\n",
       "      <th>9</th>\n",
       "      <th>...</th>\n",
       "      <th>978</th>\n",
       "      <th>979</th>\n",
       "      <th>980</th>\n",
       "      <th>981</th>\n",
       "      <th>982</th>\n",
       "      <th>983</th>\n",
       "      <th>984</th>\n",
       "      <th>985</th>\n",
       "      <th>986</th>\n",
       "      <th>label</th>\n",
       "    </tr>\n",
       "  </thead>\n",
       "  <tbody>\n",
       "    <tr>\n",
       "      <th>0</th>\n",
       "      <td>9.777520</td>\n",
       "      <td>3.813457</td>\n",
       "      <td>-18.194128</td>\n",
       "      <td>8.978684</td>\n",
       "      <td>6.013389</td>\n",
       "      <td>-21.248386</td>\n",
       "      <td>5.745310</td>\n",
       "      <td>6.918666</td>\n",
       "      <td>-19.527411</td>\n",
       "      <td>5.598435</td>\n",
       "      <td>...</td>\n",
       "      <td>-15.117799</td>\n",
       "      <td>4.266683</td>\n",
       "      <td>-13.368745</td>\n",
       "      <td>-14.708239</td>\n",
       "      <td>4.010307</td>\n",
       "      <td>-17.152294</td>\n",
       "      <td>-11.612771</td>\n",
       "      <td>6.174389</td>\n",
       "      <td>-17.667492</td>\n",
       "      <td>holo</td>\n",
       "    </tr>\n",
       "    <tr>\n",
       "      <th>1</th>\n",
       "      <td>9.725582</td>\n",
       "      <td>3.607216</td>\n",
       "      <td>-17.809814</td>\n",
       "      <td>9.054184</td>\n",
       "      <td>5.935661</td>\n",
       "      <td>-20.897234</td>\n",
       "      <td>5.783418</td>\n",
       "      <td>6.789626</td>\n",
       "      <td>-19.158470</td>\n",
       "      <td>5.727636</td>\n",
       "      <td>...</td>\n",
       "      <td>-14.631856</td>\n",
       "      <td>4.861278</td>\n",
       "      <td>-13.611453</td>\n",
       "      <td>-13.616611</td>\n",
       "      <td>4.134189</td>\n",
       "      <td>-17.299318</td>\n",
       "      <td>-10.735660</td>\n",
       "      <td>6.623164</td>\n",
       "      <td>-18.073395</td>\n",
       "      <td>holo</td>\n",
       "    </tr>\n",
       "    <tr>\n",
       "      <th>2</th>\n",
       "      <td>7.451753</td>\n",
       "      <td>7.718525</td>\n",
       "      <td>-20.804256</td>\n",
       "      <td>5.001627</td>\n",
       "      <td>10.176658</td>\n",
       "      <td>-22.322697</td>\n",
       "      <td>3.175523</td>\n",
       "      <td>10.700584</td>\n",
       "      <td>-19.015549</td>\n",
       "      <td>4.463509</td>\n",
       "      <td>...</td>\n",
       "      <td>-14.678827</td>\n",
       "      <td>4.895820</td>\n",
       "      <td>-13.405711</td>\n",
       "      <td>-13.730963</td>\n",
       "      <td>5.420157</td>\n",
       "      <td>-16.983311</td>\n",
       "      <td>-11.009371</td>\n",
       "      <td>7.962903</td>\n",
       "      <td>-17.950184</td>\n",
       "      <td>holo</td>\n",
       "    </tr>\n",
       "    <tr>\n",
       "      <th>3</th>\n",
       "      <td>6.020534</td>\n",
       "      <td>1.100365</td>\n",
       "      <td>-20.444077</td>\n",
       "      <td>4.968034</td>\n",
       "      <td>4.680233</td>\n",
       "      <td>-19.720766</td>\n",
       "      <td>7.801585</td>\n",
       "      <td>6.889822</td>\n",
       "      <td>-18.716125</td>\n",
       "      <td>5.437547</td>\n",
       "      <td>...</td>\n",
       "      <td>-14.091757</td>\n",
       "      <td>5.003303</td>\n",
       "      <td>-14.016840</td>\n",
       "      <td>-13.443205</td>\n",
       "      <td>5.746473</td>\n",
       "      <td>-17.747961</td>\n",
       "      <td>-10.124629</td>\n",
       "      <td>7.263840</td>\n",
       "      <td>-19.051968</td>\n",
       "      <td>holo</td>\n",
       "    </tr>\n",
       "    <tr>\n",
       "      <th>4</th>\n",
       "      <td>10.344275</td>\n",
       "      <td>4.632771</td>\n",
       "      <td>-18.524136</td>\n",
       "      <td>8.885919</td>\n",
       "      <td>7.243056</td>\n",
       "      <td>-20.983475</td>\n",
       "      <td>5.524308</td>\n",
       "      <td>7.108423</td>\n",
       "      <td>-19.254606</td>\n",
       "      <td>5.519444</td>\n",
       "      <td>...</td>\n",
       "      <td>-15.275589</td>\n",
       "      <td>4.291407</td>\n",
       "      <td>-13.228803</td>\n",
       "      <td>-14.361767</td>\n",
       "      <td>3.789935</td>\n",
       "      <td>-16.814537</td>\n",
       "      <td>-11.449603</td>\n",
       "      <td>6.257135</td>\n",
       "      <td>-17.719654</td>\n",
       "      <td>holo</td>\n",
       "    </tr>\n",
       "    <tr>\n",
       "      <th>...</th>\n",
       "      <td>...</td>\n",
       "      <td>...</td>\n",
       "      <td>...</td>\n",
       "      <td>...</td>\n",
       "      <td>...</td>\n",
       "      <td>...</td>\n",
       "      <td>...</td>\n",
       "      <td>...</td>\n",
       "      <td>...</td>\n",
       "      <td>...</td>\n",
       "      <td>...</td>\n",
       "      <td>...</td>\n",
       "      <td>...</td>\n",
       "      <td>...</td>\n",
       "      <td>...</td>\n",
       "      <td>...</td>\n",
       "      <td>...</td>\n",
       "      <td>...</td>\n",
       "      <td>...</td>\n",
       "      <td>...</td>\n",
       "      <td>...</td>\n",
       "    </tr>\n",
       "    <tr>\n",
       "      <th>195</th>\n",
       "      <td>9.365378</td>\n",
       "      <td>16.851328</td>\n",
       "      <td>-16.834707</td>\n",
       "      <td>8.301591</td>\n",
       "      <td>17.518627</td>\n",
       "      <td>-13.126632</td>\n",
       "      <td>6.094158</td>\n",
       "      <td>14.481037</td>\n",
       "      <td>-12.988015</td>\n",
       "      <td>5.686773</td>\n",
       "      <td>...</td>\n",
       "      <td>-14.813770</td>\n",
       "      <td>4.510476</td>\n",
       "      <td>-13.811771</td>\n",
       "      <td>-13.368156</td>\n",
       "      <td>4.628883</td>\n",
       "      <td>-17.293093</td>\n",
       "      <td>-9.941455</td>\n",
       "      <td>6.046374</td>\n",
       "      <td>-18.278152</td>\n",
       "      <td>holo</td>\n",
       "    </tr>\n",
       "    <tr>\n",
       "      <th>196</th>\n",
       "      <td>10.041633</td>\n",
       "      <td>4.359203</td>\n",
       "      <td>-18.973574</td>\n",
       "      <td>9.003583</td>\n",
       "      <td>6.720009</td>\n",
       "      <td>-21.802614</td>\n",
       "      <td>5.912539</td>\n",
       "      <td>7.442085</td>\n",
       "      <td>-19.710056</td>\n",
       "      <td>6.438478</td>\n",
       "      <td>...</td>\n",
       "      <td>-14.011269</td>\n",
       "      <td>2.747892</td>\n",
       "      <td>-13.023229</td>\n",
       "      <td>-14.364787</td>\n",
       "      <td>2.316902</td>\n",
       "      <td>-16.722446</td>\n",
       "      <td>-13.345476</td>\n",
       "      <td>5.524594</td>\n",
       "      <td>-18.690062</td>\n",
       "      <td>holo</td>\n",
       "    </tr>\n",
       "    <tr>\n",
       "      <th>197</th>\n",
       "      <td>10.427259</td>\n",
       "      <td>4.047018</td>\n",
       "      <td>-17.906391</td>\n",
       "      <td>9.809847</td>\n",
       "      <td>6.540828</td>\n",
       "      <td>-20.925121</td>\n",
       "      <td>6.234738</td>\n",
       "      <td>6.779198</td>\n",
       "      <td>-19.548676</td>\n",
       "      <td>5.510198</td>\n",
       "      <td>...</td>\n",
       "      <td>-14.276879</td>\n",
       "      <td>3.385739</td>\n",
       "      <td>-12.724311</td>\n",
       "      <td>-14.154165</td>\n",
       "      <td>3.233911</td>\n",
       "      <td>-16.579926</td>\n",
       "      <td>-13.570492</td>\n",
       "      <td>6.569523</td>\n",
       "      <td>-18.309038</td>\n",
       "      <td>holo</td>\n",
       "    </tr>\n",
       "    <tr>\n",
       "      <th>198</th>\n",
       "      <td>7.474376</td>\n",
       "      <td>4.401775</td>\n",
       "      <td>-22.903255</td>\n",
       "      <td>5.231095</td>\n",
       "      <td>6.977235</td>\n",
       "      <td>-24.539921</td>\n",
       "      <td>3.234308</td>\n",
       "      <td>7.543316</td>\n",
       "      <td>-21.315193</td>\n",
       "      <td>4.005530</td>\n",
       "      <td>...</td>\n",
       "      <td>-14.485805</td>\n",
       "      <td>5.221518</td>\n",
       "      <td>-13.914531</td>\n",
       "      <td>-13.327859</td>\n",
       "      <td>4.823620</td>\n",
       "      <td>-17.518887</td>\n",
       "      <td>-10.493206</td>\n",
       "      <td>6.810891</td>\n",
       "      <td>-19.078377</td>\n",
       "      <td>holo</td>\n",
       "    </tr>\n",
       "    <tr>\n",
       "      <th>199</th>\n",
       "      <td>8.571538</td>\n",
       "      <td>4.191836</td>\n",
       "      <td>-21.932770</td>\n",
       "      <td>7.814681</td>\n",
       "      <td>7.795319</td>\n",
       "      <td>-23.136301</td>\n",
       "      <td>4.727149</td>\n",
       "      <td>8.346907</td>\n",
       "      <td>-21.017927</td>\n",
       "      <td>4.498468</td>\n",
       "      <td>...</td>\n",
       "      <td>-14.624117</td>\n",
       "      <td>5.340372</td>\n",
       "      <td>-14.128330</td>\n",
       "      <td>-13.285368</td>\n",
       "      <td>5.324885</td>\n",
       "      <td>-17.783390</td>\n",
       "      <td>-10.713785</td>\n",
       "      <td>7.196978</td>\n",
       "      <td>-19.763529</td>\n",
       "      <td>holo</td>\n",
       "    </tr>\n",
       "  </tbody>\n",
       "</table>\n",
       "<p>200 rows × 988 columns</p>\n",
       "</div>"
      ],
      "text/plain": [
       "             0          1          2         3          4          5  \\\n",
       "0     9.777520   3.813457 -18.194128  8.978684   6.013389 -21.248386   \n",
       "1     9.725582   3.607216 -17.809814  9.054184   5.935661 -20.897234   \n",
       "2     7.451753   7.718525 -20.804256  5.001627  10.176658 -22.322697   \n",
       "3     6.020534   1.100365 -20.444077  4.968034   4.680233 -19.720766   \n",
       "4    10.344275   4.632771 -18.524136  8.885919   7.243056 -20.983475   \n",
       "..         ...        ...        ...       ...        ...        ...   \n",
       "195   9.365378  16.851328 -16.834707  8.301591  17.518627 -13.126632   \n",
       "196  10.041633   4.359203 -18.973574  9.003583   6.720009 -21.802614   \n",
       "197  10.427259   4.047018 -17.906391  9.809847   6.540828 -20.925121   \n",
       "198   7.474376   4.401775 -22.903255  5.231095   6.977235 -24.539921   \n",
       "199   8.571538   4.191836 -21.932770  7.814681   7.795319 -23.136301   \n",
       "\n",
       "            6          7          8         9  ...        978       979  \\\n",
       "0    5.745310   6.918666 -19.527411  5.598435  ... -15.117799  4.266683   \n",
       "1    5.783418   6.789626 -19.158470  5.727636  ... -14.631856  4.861278   \n",
       "2    3.175523  10.700584 -19.015549  4.463509  ... -14.678827  4.895820   \n",
       "3    7.801585   6.889822 -18.716125  5.437547  ... -14.091757  5.003303   \n",
       "4    5.524308   7.108423 -19.254606  5.519444  ... -15.275589  4.291407   \n",
       "..        ...        ...        ...       ...  ...        ...       ...   \n",
       "195  6.094158  14.481037 -12.988015  5.686773  ... -14.813770  4.510476   \n",
       "196  5.912539   7.442085 -19.710056  6.438478  ... -14.011269  2.747892   \n",
       "197  6.234738   6.779198 -19.548676  5.510198  ... -14.276879  3.385739   \n",
       "198  3.234308   7.543316 -21.315193  4.005530  ... -14.485805  5.221518   \n",
       "199  4.727149   8.346907 -21.017927  4.498468  ... -14.624117  5.340372   \n",
       "\n",
       "           980        981       982        983        984       985  \\\n",
       "0   -13.368745 -14.708239  4.010307 -17.152294 -11.612771  6.174389   \n",
       "1   -13.611453 -13.616611  4.134189 -17.299318 -10.735660  6.623164   \n",
       "2   -13.405711 -13.730963  5.420157 -16.983311 -11.009371  7.962903   \n",
       "3   -14.016840 -13.443205  5.746473 -17.747961 -10.124629  7.263840   \n",
       "4   -13.228803 -14.361767  3.789935 -16.814537 -11.449603  6.257135   \n",
       "..         ...        ...       ...        ...        ...       ...   \n",
       "195 -13.811771 -13.368156  4.628883 -17.293093  -9.941455  6.046374   \n",
       "196 -13.023229 -14.364787  2.316902 -16.722446 -13.345476  5.524594   \n",
       "197 -12.724311 -14.154165  3.233911 -16.579926 -13.570492  6.569523   \n",
       "198 -13.914531 -13.327859  4.823620 -17.518887 -10.493206  6.810891   \n",
       "199 -14.128330 -13.285368  5.324885 -17.783390 -10.713785  7.196978   \n",
       "\n",
       "           986  label  \n",
       "0   -17.667492   holo  \n",
       "1   -18.073395   holo  \n",
       "2   -17.950184   holo  \n",
       "3   -19.051968   holo  \n",
       "4   -17.719654   holo  \n",
       "..         ...    ...  \n",
       "195 -18.278152   holo  \n",
       "196 -18.690062   holo  \n",
       "197 -18.309038   holo  \n",
       "198 -19.078377   holo  \n",
       "199 -19.763529   holo  \n",
       "\n",
       "[200 rows x 988 columns]"
      ]
     },
     "execution_count": 14,
     "metadata": {},
     "output_type": "execute_result"
    }
   ],
   "source": [
    "df_holo"
   ]
  },
  {
   "cell_type": "markdown",
   "metadata": {},
   "source": [
    "### Create Training and Test DF"
   ]
  },
  {
   "cell_type": "code",
   "execution_count": 22,
   "metadata": {},
   "outputs": [],
   "source": [
    "def create_train_and_test(df1, df2, random_seed, label='mut', train_test_split=0.75):\n",
    "    df_mod = pd.DataFrame()\n",
    "    df_sta = pd.DataFrame()\n",
    "    remove_n = 0\n",
    "    # Here is to clean the data\n",
    "    if len(df1) > len(df2):\n",
    "        df_mod = df1\n",
    "        df_sta = df2\n",
    "        remove_n = len(df1) - len(df2)\n",
    "    else:\n",
    "        df_mod = df2\n",
    "        df_sta = df1\n",
    "        remove_n = len(df2) - len(df1)\n",
    "    drop_indices = np.random.choice(df_mod.index, remove_n, replace=False)\n",
    "    df_mod = df_mod.drop(drop_indices)\n",
    "    split = math.ceil(len(df_sta) * 0.75)\n",
    "    df_mod.sample(frac=1).reset_index(drop=True)\n",
    "    df_sta.sample(frac=1)\n",
    "    df_mod_train = df_mod[:split]\n",
    "    df_mod_test  = df_mod[split:]\n",
    "    df_sta_train = df_sta[:split]\n",
    "    df_sta_test  = df_sta[split:]\n",
    "    df_mod_train = df_mod_train.append(df_sta_train)\n",
    "    df_mod_test  = df_mod_test.append(df_sta_test)\n",
    "    df_mod_train = df_mod_train.sample(frac=1).reset_index(drop=True)\n",
    "    df_mod_test  = df_mod_test.sample(frac=1).reset_index(drop=True)\n",
    "    # Factorize Values for Specific label Types\n",
    "    df_mod_train['num_label'] = [0 if x is label else 1 for x in df_mod_train['label']]\n",
    "    df_mod_test['num_label']  = [0 if x is label else 1 for x in df_mod_test['label']]\n",
    "    return df_mod_train, df_mod_test"
   ]
  },
  {
   "cell_type": "code",
   "execution_count": 36,
   "metadata": {},
   "outputs": [],
   "source": [
    "df_train, df_test = create_train_and_test(df_apo, df_holo, random_seed=42, label='apo')"
   ]
  },
  {
   "cell_type": "markdown",
   "metadata": {},
   "source": [
    "# Random Forest"
   ]
  },
  {
   "cell_type": "code",
   "execution_count": 37,
   "metadata": {},
   "outputs": [],
   "source": [
    "features = df_train.columns[:-2] # Don't Want the Labels Column\n",
    "labels   = df_train['num_label']"
   ]
  },
  {
   "cell_type": "code",
   "execution_count": 38,
   "metadata": {},
   "outputs": [
    {
     "name": "stdout",
     "output_type": "stream",
     "text": [
      "987\n",
      "300\n"
     ]
    }
   ],
   "source": [
    "print(len(features))\n",
    "print(len(labels))"
   ]
  },
  {
   "cell_type": "markdown",
   "metadata": {},
   "source": [
    "Create a Model Using the Training Data"
   ]
  },
  {
   "cell_type": "code",
   "execution_count": 39,
   "metadata": {},
   "outputs": [
    {
     "data": {
      "text/plain": [
       "RandomForestClassifier(n_estimators=1000, n_jobs=2, random_state=42)"
      ]
     },
     "execution_count": 39,
     "metadata": {},
     "output_type": "execute_result"
    }
   ],
   "source": [
    "rf_clf = RandomForestClassifier(n_jobs=2, random_state=42, n_estimators=1000)\n",
    "rf_clf.fit(df_train[features],  labels)"
   ]
  },
  {
   "cell_type": "markdown",
   "metadata": {},
   "source": [
    "#### Use the Model on the Testing Data"
   ]
  },
  {
   "cell_type": "code",
   "execution_count": 40,
   "metadata": {},
   "outputs": [],
   "source": [
    "predictions = rf_clf.predict(df_test[features])"
   ]
  },
  {
   "cell_type": "markdown",
   "metadata": {},
   "source": [
    "#### Take a Look at the Random Forest Classifier"
   ]
  },
  {
   "cell_type": "markdown",
   "metadata": {},
   "source": [
    "First 10 Predictors"
   ]
  },
  {
   "cell_type": "code",
   "execution_count": 41,
   "metadata": {},
   "outputs": [
    {
     "data": {
      "text/plain": [
       "array([1, 0, 0, 0, 0, 0, 1, 0, 1, 0])"
      ]
     },
     "execution_count": 41,
     "metadata": {},
     "output_type": "execute_result"
    }
   ],
   "source": [
    "predictions[:10]"
   ]
  },
  {
   "cell_type": "markdown",
   "metadata": {},
   "source": [
    "Look at the Confidence of the Label Prediction"
   ]
  },
  {
   "cell_type": "code",
   "execution_count": 42,
   "metadata": {},
   "outputs": [
    {
     "data": {
      "text/plain": [
       "array([[0.078, 0.922],\n",
       "       [0.716, 0.284],\n",
       "       [0.929, 0.071],\n",
       "       [0.865, 0.135],\n",
       "       [0.873, 0.127],\n",
       "       [0.759, 0.241],\n",
       "       [0.054, 0.946],\n",
       "       [0.666, 0.334],\n",
       "       [0.18 , 0.82 ],\n",
       "       [0.906, 0.094]])"
      ]
     },
     "execution_count": 42,
     "metadata": {},
     "output_type": "execute_result"
    }
   ],
   "source": [
    "rf_clf.predict_proba(df_test[features])[:10]"
   ]
  },
  {
   "cell_type": "markdown",
   "metadata": {},
   "source": [
    "Look at the First 10 Label from the Testing Data"
   ]
  },
  {
   "cell_type": "code",
   "execution_count": 43,
   "metadata": {},
   "outputs": [
    {
     "data": {
      "text/plain": [
       "0    holo\n",
       "1     apo\n",
       "2     apo\n",
       "3     apo\n",
       "4     apo\n",
       "5     apo\n",
       "6    holo\n",
       "7     apo\n",
       "8    holo\n",
       "9     apo\n",
       "Name: label, dtype: object"
      ]
     },
     "execution_count": 43,
     "metadata": {},
     "output_type": "execute_result"
    }
   ],
   "source": [
    "df_test['label'][:10]"
   ]
  },
  {
   "cell_type": "markdown",
   "metadata": {},
   "source": [
    "# Evaluate the Random Forest Classifier"
   ]
  },
  {
   "cell_type": "code",
   "execution_count": 44,
   "metadata": {},
   "outputs": [
    {
     "name": "stdout",
     "output_type": "stream",
     "text": [
      "Classifier Success Rate on Test Set: 98.00%\n"
     ]
    }
   ],
   "source": [
    "num_correct = 0\n",
    "for actual, predict in zip(df_test['num_label'], predictions):\n",
    "    if actual == predict:\n",
    "        num_correct += 1 \n",
    "print('Classifier Success Rate on Test Set: {0:0.2%}'.format(num_correct/len(predictions)))"
   ]
  },
  {
   "cell_type": "markdown",
   "metadata": {},
   "source": [
    "# View Feature Importance"
   ]
  },
  {
   "cell_type": "code",
   "execution_count": 45,
   "metadata": {},
   "outputs": [
    {
     "data": {
      "image/png": "[encoded data removed]",
      "text/plain": [
       "<Figure size 432x288 with 1 Axes>"
      ]
     },
     "metadata": {},
     "output_type": "display_data"
    }
   ],
   "source": [
    "# View a list of the features and their importance scores \n",
    "output = list(zip(df_train[features], rf_clf.feature_importances_))\n",
    "\n",
    "# convert list of tuples to a a list of lists \n",
    "output = [list(temp) for temp in output]\n",
    "\n",
    "sorted_output = sorted(output,key=lambda l:l[1], reverse=True)\n",
    "\n",
    "plt.close('all')\n",
    "fig, axes = plt.subplots(nrows = 1, ncols = 1)\n",
    "fig.set_facecolor('white')\n",
    "axes.set_ylabel('Feature Importance')\n",
    "axes.set_xlabel('Features')\n",
    "axes.spines['right'].set_visible(False)\n",
    "axes.spines['top'].set_visible(False)\n",
    "axes.yaxis.set_ticks_position('left')\n",
    "axes.xaxis.set_ticks_position('bottom')\n",
    "axes.tick_params(direction='out')\n",
    "\n",
    "xmax = 200\n",
    "axes.plot([i for i in range(xmax)], [temp[1] for i, temp in enumerate(sorted_output) if i < xmax],'k.', clip_on = False)\n",
    "plt.show()\n",
    "\n",
    "rate_of_change = [sorted_output[x][1] - sorted_output[x-1][1] for x in range(1, len(output))]"
   ]
  },
  {
   "cell_type": "markdown",
   "metadata": {},
   "source": [
    "# Create a Colored PDB Image "
   ]
  },
  {
   "cell_type": "markdown",
   "metadata": {},
   "source": [
    "### Important Residues, because of alpha CA position"
   ]
  },
  {
   "cell_type": "code",
   "execution_count": 46,
   "metadata": {},
   "outputs": [
    {
     "name": "stdout",
     "output_type": "stream",
     "text": [
      "[15, 16, 17, 18, 19, 20, 21, 22, 23, 24, 25, 26, 27, 28, 29, 30, 31, 32, 33, 34, 35, 36, 37, 38, 39, 40, 41, 42, 43, 44, 45, 46, 47, 48, 49, 50, 51, 52, 53, 54, 55, 56, 57, 58, 59, 60, 61, 62, 63, 64, 65, 66, 67, 68, 69, 70, 71, 72, 73, 74, 75, 76, 77, 78, 79, 80, 81, 82, 83, 84, 85, 86, 87, 88, 89, 90, 91, 92, 93, 94, 95, 96, 97, 98, 99, 100, 101, 102, 103, 104, 105, 106, 107, 108, 109, 110, 111, 112, 113, 114, 115, 116, 117, 118, 119, 120, 121, 122, 123, 124, 125, 126, 127, 128, 129, 130, 131, 132, 133, 134, 135, 136, 137, 138, 139, 140, 141, 142, 143, 144, 145, 146, 147, 148, 149, 150, 151, 152, 153, 154, 155, 156, 157, 158, 159, 160, 161, 162, 163, 164, 165, 166, 167, 168, 169, 170, 171, 172, 173, 174, 175, 176, 177, 178, 179, 180, 181, 182, 183, 184, 185, 186, 187, 188, 189, 190, 191, 192, 193, 194, 195, 196, 197, 198, 199, 200, 201, 202, 203, 204, 205, 206, 207, 208, 209, 210, 211, 212, 213, 214, 215, 216, 217, 218, 219, 220, 221, 222, 223, 224, 225, 226, 227, 228, 229, 230, 231, 232, 233, 234, 235, 236, 237, 238, 239, 240, 241, 242, 243, 244, 245, 246, 247, 248, 249, 250, 251, 252, 253, 254, 255, 256, 257, 258, 259, 260, 261, 262, 263, 264, 265, 266, 267, 268, 269, 270, 271, 272, 273, 274, 275, 276, 277, 278, 279, 280, 281, 282, 283, 284, 285, 286, 287, 288, 289, 290, 291, 292, 293, 294, 295, 296, 297, 298, 299, 300, 301, 302, 303, 304, 305, 306, 307, 308, 309, 310, 311, 312, 313, 314, 315, 316, 317, 318, 319, 320, 321, 322, 323, 324, 325, 326, 327, 328, 329, 330, 331, 332, 333, 334, 335, 336, 337, 338, 339, 340, 341, 342, 343]\n"
     ]
    }
   ],
   "source": [
    "# Determine important Alpha Carbons\n",
    "important_residues = []\n",
    "importance_for_residues = []\n",
    "cutoff = 0.00\n",
    "count = 0\n",
    "# if residue doesn't start at one include off shift\n",
    "shift = 14\n",
    "for i in range(int(len(output))):\n",
    "    if (i+1) % 3 == 0:\n",
    "        count += 1\n",
    "        if output[i][1] > cutoff or output[i-1][1] > cutoff or output[i-2][1] > cutoff: \n",
    "            all_importance = [output[i][1], output[i-1][1], output[i-2][1]]\n",
    "            importance_for_residues.append(max(all_importance))\n",
    "            important_residues.append(count+shift)\n",
    "            #print(count)\n",
    "print(important_residues)\n",
    "#print(importance)"
   ]
  },
  {
   "cell_type": "markdown",
   "metadata": {},
   "source": [
    "# Make Colored PDB file"
   ]
  },
  {
   "cell_type": "code",
   "execution_count": 47,
   "metadata": {},
   "outputs": [
    {
     "name": "stdout",
     "output_type": "stream",
     "text": [
      "# Atoms: 329\n",
      "# Important Atoms: 329\n",
      "# Percent Important: 100.00%\n"
     ]
    }
   ],
   "source": [
    "print('# Atoms: {}'.format(len(apo_select)))\n",
    "print('# Important Atoms: {}'.format(len(important_residues)))\n",
    "print('# Percent Important: {0:0.2f}%'.format((len(important_residues)/len(apo_select))*100))"
   ]
  },
  {
   "cell_type": "code",
   "execution_count": 48,
   "metadata": {},
   "outputs": [],
   "source": [
    "# pdb for coloring\n",
    "flag = 0\n",
    "with open(\"importance_by_residues.pdb\", \"w\") as o:\n",
    "    with open(\"check.pdb\", 'r') as f:\n",
    "        for line in f:\n",
    "            line.split(' ')\n",
    "            if line.find(\"ATOM\") != -1:\n",
    "                if line.find(\"PROT\") != -1:\n",
    "                    parta = line[0:60]\n",
    "                    partb = line[67:76]\n",
    "                    #print(line[23:31])\n",
    "                    if int(line[23:31]) == important_residues[flag]: # You might need to add a residue buffer here.\n",
    "                        o.write(\"{}{:6.2f}{}\\n\".format(parta,importance_for_residues[flag]/max(importance_for_residues),partb))\n",
    "                        #print(\"{}{:6.2f}{}\\n\".format(parta,importance[flag]/max(importance),partb))\n",
    "                        if line.find(\" O \") != -1 and flag < len(important_residues)-1:\n",
    "                            flag += 1 \n",
    "                    else:\n",
    "                        o.write(\"{}{:6.2f}{}\\n\".format(parta,0.00,partb))\n",
    "    o.write(\"END\\n\")    "
   ]
  },
  {
   "cell_type": "markdown",
   "metadata": {},
   "source": [
    "# Remove Garbage Files"
   ]
  },
  {
   "cell_type": "code",
   "execution_count": null,
   "metadata": {},
   "outputs": [],
   "source": [
    "os.system('rm apo.dcd')\n",
    "os.system('rm holo.dcd')"
   ]
  },
  {
   "cell_type": "code",
   "execution_count": null,
   "metadata": {},
   "outputs": [],
   "source": []
  }
 ],
 "metadata": {
  "kernelspec": {
   "display_name": "Python 3",
   "language": "python",
   "name": "python3"
  },
  "language_info": {
   "codemirror_mode": {
    "name": "ipython",
    "version": 3
   },
   "file_extension": ".py",
   "mimetype": "text/x-python",
   "name": "python",
   "nbconvert_exporter": "python",
   "pygments_lexer": "ipython3",
   "version": "3.7.6"
  },
  "toc": {
   "base_numbering": 1,
   "nav_menu": {},
   "number_sections": true,
   "sideBar": true,
   "skip_h1_title": false,
   "title_cell": "Table of Contents",
   "title_sidebar": "Contents",
   "toc_cell": false,
   "toc_position": {},
   "toc_section_display": true,
   "toc_window_display": true
  }
 },
 "nbformat": 4,
 "nbformat_minor": 2
}
